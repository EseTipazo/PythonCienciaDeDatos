{
  "cells": [
    {
      "cell_type": "code",
      "execution_count": null,
      "metadata": {
        "colab": {
          "base_uri": "https://localhost:8080/"
        },
        "id": "SsVuecrEGIyK",
        "outputId": "0dbab1a0-334a-44ac-bb15-0f2bda44df85"
      },
      "outputs": [
        {
          "output_type": "stream",
          "name": "stdout",
          "text": [
            "-3\n",
            "-1\n",
            "1\n",
            "3\n",
            "5\n",
            "7\n",
            "19\n"
          ]
        }
      ],
      "source": [
        "def normal_rule(x):\n",
        "  y = 2*x -1\n",
        "  return y\n",
        "\n",
        "print(normal_rule(-1))\n",
        "print(normal_rule(0))  \n",
        "print(normal_rule(1))  \n",
        "print(normal_rule(2))\n",
        "print(normal_rule(3))\n",
        "print(normal_rule(4))\n",
        "\n",
        "print(normal_rule(10))    "
      ]
    },
    {
      "cell_type": "code",
      "execution_count": null,
      "metadata": {
        "collapsed": true,
        "id": "XnzJ3j1y6o-S"
      },
      "outputs": [],
      "source": [
        "!pip install tensorflow"
      ]
    },
    {
      "cell_type": "code",
      "execution_count": null,
      "metadata": {
        "id": "-zoCgGGxHHHH"
      },
      "outputs": [],
      "source": [
        "import tensorflow as tf\n",
        "import numpy as np\n",
        "from tensorflow import keras"
      ]
    },
    {
      "cell_type": "code",
      "source": [
        "input_x = np.array([-1,0,1,2,3,4],dtype=float)"
      ],
      "metadata": {
        "id": "S81hwrnCSl2Z"
      },
      "execution_count": null,
      "outputs": []
    },
    {
      "cell_type": "code",
      "source": [
        "output_y = np.array([-3,-1,1,3,5,7],dtype=float)"
      ],
      "metadata": {
        "id": "jhHKOxkASrGG"
      },
      "execution_count": null,
      "outputs": []
    },
    {
      "cell_type": "code",
      "execution_count": null,
      "metadata": {
        "colab": {
          "base_uri": "https://localhost:8080/"
        },
        "id": "oTBXdlXLHHGE",
        "outputId": "67bf891d-4e53-4186-996f-ebb55d93c4be"
      },
      "outputs": [
        {
          "output_type": "stream",
          "name": "stdout",
          "text": [
            "-1.0 -3.0\n",
            "0.0 -1.0\n",
            "1.0 1.0\n",
            "2.0 3.0\n",
            "3.0 5.0\n",
            "4.0 7.0\n"
          ]
        }
      ],
      "source": [
        "\n",
        "for i,c in enumerate(input_x):\n",
        "  print(c,output_y[i])\n"
      ]
    },
    {
      "cell_type": "code",
      "execution_count": null,
      "metadata": {
        "id": "fWShB8IpHG2o"
      },
      "outputs": [],
      "source": [
        "model = tf.keras.Sequential(\n",
        "    [keras.layers.Dense(units=1, input_shape=[1])]\n",
        ")"
      ]
    },
    {
      "cell_type": "markdown",
      "metadata": {
        "id": "fVjpHNZEJDqV"
      },
      "source": [
        "1. Y = 10X - 10 \n",
        "*proceso del optimizador, teniendo en cuenta el loss*\n",
        "Y= 6X - 5,"
      ]
    },
    {
      "cell_type": "code",
      "execution_count": null,
      "metadata": {
        "id": "hh-1ibTRIlIz"
      },
      "outputs": [],
      "source": [
        "model.compile(optimizer=\"sgd\",loss=\"mean_squared_error\")"
      ]
    },
    {
      "cell_type": "code",
      "execution_count": null,
      "metadata": {
        "colab": {
          "base_uri": "https://localhost:8080/"
        },
        "id": "kHx6sOz4JwjT",
        "outputId": "4b1943d5-4aed-4a40-ed2a-e82dc27f78c5"
      },
      "outputs": [
        {
          "output_type": "stream",
          "name": "stdout",
          "text": [
            "Epoch 1/220\n",
            "1/1 [==============================] - 0s 12ms/step - loss: 0.0011\n",
            "Epoch 2/220\n",
            "1/1 [==============================] - 0s 9ms/step - loss: 0.0011\n",
            "Epoch 3/220\n",
            "1/1 [==============================] - 0s 7ms/step - loss: 0.0011\n",
            "Epoch 4/220\n",
            "1/1 [==============================] - 0s 5ms/step - loss: 0.0011\n",
            "Epoch 5/220\n",
            "1/1 [==============================] - 0s 5ms/step - loss: 0.0011\n",
            "Epoch 6/220\n",
            "1/1 [==============================] - 0s 6ms/step - loss: 0.0010\n",
            "Epoch 7/220\n",
            "1/1 [==============================] - 0s 5ms/step - loss: 0.0010\n",
            "Epoch 8/220\n",
            "1/1 [==============================] - 0s 5ms/step - loss: 9.9357e-04\n",
            "Epoch 9/220\n",
            "1/1 [==============================] - 0s 5ms/step - loss: 9.7316e-04\n",
            "Epoch 10/220\n",
            "1/1 [==============================] - 0s 5ms/step - loss: 9.5317e-04\n",
            "Epoch 11/220\n",
            "1/1 [==============================] - 0s 5ms/step - loss: 9.3360e-04\n",
            "Epoch 12/220\n",
            "1/1 [==============================] - 0s 6ms/step - loss: 9.1442e-04\n",
            "Epoch 13/220\n",
            "1/1 [==============================] - 0s 5ms/step - loss: 8.9564e-04\n",
            "Epoch 14/220\n",
            "1/1 [==============================] - 0s 6ms/step - loss: 8.7724e-04\n",
            "Epoch 15/220\n",
            "1/1 [==============================] - 0s 8ms/step - loss: 8.5923e-04\n",
            "Epoch 16/220\n",
            "1/1 [==============================] - 0s 9ms/step - loss: 8.4158e-04\n",
            "Epoch 17/220\n",
            "1/1 [==============================] - 0s 8ms/step - loss: 8.2429e-04\n",
            "Epoch 18/220\n",
            "1/1 [==============================] - 0s 9ms/step - loss: 8.0736e-04\n",
            "Epoch 19/220\n",
            "1/1 [==============================] - 0s 9ms/step - loss: 7.9078e-04\n",
            "Epoch 20/220\n",
            "1/1 [==============================] - 0s 6ms/step - loss: 7.7453e-04\n",
            "Epoch 21/220\n",
            "1/1 [==============================] - 0s 9ms/step - loss: 7.5863e-04\n",
            "Epoch 22/220\n",
            "1/1 [==============================] - 0s 7ms/step - loss: 7.4304e-04\n",
            "Epoch 23/220\n",
            "1/1 [==============================] - 0s 6ms/step - loss: 7.2778e-04\n",
            "Epoch 24/220\n",
            "1/1 [==============================] - 0s 6ms/step - loss: 7.1283e-04\n",
            "Epoch 25/220\n",
            "1/1 [==============================] - 0s 7ms/step - loss: 6.9818e-04\n",
            "Epoch 26/220\n",
            "1/1 [==============================] - 0s 7ms/step - loss: 6.8385e-04\n",
            "Epoch 27/220\n",
            "1/1 [==============================] - 0s 6ms/step - loss: 6.6980e-04\n",
            "Epoch 28/220\n",
            "1/1 [==============================] - 0s 7ms/step - loss: 6.5604e-04\n",
            "Epoch 29/220\n",
            "1/1 [==============================] - 0s 6ms/step - loss: 6.4256e-04\n",
            "Epoch 30/220\n",
            "1/1 [==============================] - 0s 7ms/step - loss: 6.2936e-04\n",
            "Epoch 31/220\n",
            "1/1 [==============================] - 0s 5ms/step - loss: 6.1644e-04\n",
            "Epoch 32/220\n",
            "1/1 [==============================] - 0s 7ms/step - loss: 6.0378e-04\n",
            "Epoch 33/220\n",
            "1/1 [==============================] - 0s 6ms/step - loss: 5.9137e-04\n",
            "Epoch 34/220\n",
            "1/1 [==============================] - 0s 7ms/step - loss: 5.7922e-04\n",
            "Epoch 35/220\n",
            "1/1 [==============================] - 0s 6ms/step - loss: 5.6733e-04\n",
            "Epoch 36/220\n",
            "1/1 [==============================] - 0s 6ms/step - loss: 5.5567e-04\n",
            "Epoch 37/220\n",
            "1/1 [==============================] - 0s 6ms/step - loss: 5.4426e-04\n",
            "Epoch 38/220\n",
            "1/1 [==============================] - 0s 4ms/step - loss: 5.3308e-04\n",
            "Epoch 39/220\n",
            "1/1 [==============================] - 0s 10ms/step - loss: 5.2213e-04\n",
            "Epoch 40/220\n",
            "1/1 [==============================] - 0s 36ms/step - loss: 5.1141e-04\n",
            "Epoch 41/220\n",
            "1/1 [==============================] - 0s 38ms/step - loss: 5.0090e-04\n",
            "Epoch 42/220\n",
            "1/1 [==============================] - 0s 12ms/step - loss: 4.9061e-04\n",
            "Epoch 43/220\n",
            "1/1 [==============================] - 0s 7ms/step - loss: 4.8054e-04\n",
            "Epoch 44/220\n",
            "1/1 [==============================] - 0s 12ms/step - loss: 4.7067e-04\n",
            "Epoch 45/220\n",
            "1/1 [==============================] - 0s 35ms/step - loss: 4.6100e-04\n",
            "Epoch 46/220\n",
            "1/1 [==============================] - 0s 16ms/step - loss: 4.5153e-04\n",
            "Epoch 47/220\n",
            "1/1 [==============================] - 0s 5ms/step - loss: 4.4225e-04\n",
            "Epoch 48/220\n",
            "1/1 [==============================] - 0s 5ms/step - loss: 4.3317e-04\n",
            "Epoch 49/220\n",
            "1/1 [==============================] - 0s 5ms/step - loss: 4.2427e-04\n",
            "Epoch 50/220\n",
            "1/1 [==============================] - 0s 5ms/step - loss: 4.1556e-04\n",
            "Epoch 51/220\n",
            "1/1 [==============================] - 0s 5ms/step - loss: 4.0702e-04\n",
            "Epoch 52/220\n",
            "1/1 [==============================] - 0s 5ms/step - loss: 3.9866e-04\n",
            "Epoch 53/220\n",
            "1/1 [==============================] - 0s 5ms/step - loss: 3.9047e-04\n",
            "Epoch 54/220\n",
            "1/1 [==============================] - 0s 5ms/step - loss: 3.8245e-04\n",
            "Epoch 55/220\n",
            "1/1 [==============================] - 0s 4ms/step - loss: 3.7460e-04\n",
            "Epoch 56/220\n",
            "1/1 [==============================] - 0s 5ms/step - loss: 3.6690e-04\n",
            "Epoch 57/220\n",
            "1/1 [==============================] - 0s 5ms/step - loss: 3.5936e-04\n",
            "Epoch 58/220\n",
            "1/1 [==============================] - 0s 5ms/step - loss: 3.5198e-04\n",
            "Epoch 59/220\n",
            "1/1 [==============================] - 0s 5ms/step - loss: 3.4475e-04\n",
            "Epoch 60/220\n",
            "1/1 [==============================] - 0s 5ms/step - loss: 3.3767e-04\n",
            "Epoch 61/220\n",
            "1/1 [==============================] - 0s 5ms/step - loss: 3.3074e-04\n",
            "Epoch 62/220\n",
            "1/1 [==============================] - 0s 6ms/step - loss: 3.2394e-04\n",
            "Epoch 63/220\n",
            "1/1 [==============================] - 0s 5ms/step - loss: 3.1729e-04\n",
            "Epoch 64/220\n",
            "1/1 [==============================] - 0s 20ms/step - loss: 3.1077e-04\n",
            "Epoch 65/220\n",
            "1/1 [==============================] - 0s 12ms/step - loss: 3.0439e-04\n",
            "Epoch 66/220\n",
            "1/1 [==============================] - 0s 14ms/step - loss: 2.9814e-04\n",
            "Epoch 67/220\n",
            "1/1 [==============================] - 0s 8ms/step - loss: 2.9201e-04\n",
            "Epoch 68/220\n",
            "1/1 [==============================] - 0s 12ms/step - loss: 2.8601e-04\n",
            "Epoch 69/220\n",
            "1/1 [==============================] - 0s 7ms/step - loss: 2.8014e-04\n",
            "Epoch 70/220\n",
            "1/1 [==============================] - 0s 12ms/step - loss: 2.7438e-04\n",
            "Epoch 71/220\n",
            "1/1 [==============================] - 0s 11ms/step - loss: 2.6875e-04\n",
            "Epoch 72/220\n",
            "1/1 [==============================] - 0s 10ms/step - loss: 2.6323e-04\n",
            "Epoch 73/220\n",
            "1/1 [==============================] - 0s 6ms/step - loss: 2.5782e-04\n",
            "Epoch 74/220\n",
            "1/1 [==============================] - 0s 7ms/step - loss: 2.5252e-04\n",
            "Epoch 75/220\n",
            "1/1 [==============================] - 0s 10ms/step - loss: 2.4734e-04\n",
            "Epoch 76/220\n",
            "1/1 [==============================] - 0s 7ms/step - loss: 2.4226e-04\n",
            "Epoch 77/220\n",
            "1/1 [==============================] - 0s 4ms/step - loss: 2.3728e-04\n",
            "Epoch 78/220\n",
            "1/1 [==============================] - 0s 4ms/step - loss: 2.3241e-04\n",
            "Epoch 79/220\n",
            "1/1 [==============================] - 0s 4ms/step - loss: 2.2763e-04\n",
            "Epoch 80/220\n",
            "1/1 [==============================] - 0s 4ms/step - loss: 2.2296e-04\n",
            "Epoch 81/220\n",
            "1/1 [==============================] - 0s 4ms/step - loss: 2.1838e-04\n",
            "Epoch 82/220\n",
            "1/1 [==============================] - 0s 4ms/step - loss: 2.1389e-04\n",
            "Epoch 83/220\n",
            "1/1 [==============================] - 0s 4ms/step - loss: 2.0950e-04\n",
            "Epoch 84/220\n",
            "1/1 [==============================] - 0s 4ms/step - loss: 2.0520e-04\n",
            "Epoch 85/220\n",
            "1/1 [==============================] - 0s 4ms/step - loss: 2.0098e-04\n",
            "Epoch 86/220\n",
            "1/1 [==============================] - 0s 7ms/step - loss: 1.9685e-04\n",
            "Epoch 87/220\n",
            "1/1 [==============================] - 0s 5ms/step - loss: 1.9281e-04\n",
            "Epoch 88/220\n",
            "1/1 [==============================] - 0s 7ms/step - loss: 1.8885e-04\n",
            "Epoch 89/220\n",
            "1/1 [==============================] - 0s 4ms/step - loss: 1.8497e-04\n",
            "Epoch 90/220\n",
            "1/1 [==============================] - 0s 4ms/step - loss: 1.8117e-04\n",
            "Epoch 91/220\n",
            "1/1 [==============================] - 0s 6ms/step - loss: 1.7745e-04\n",
            "Epoch 92/220\n",
            "1/1 [==============================] - 0s 4ms/step - loss: 1.7380e-04\n",
            "Epoch 93/220\n",
            "1/1 [==============================] - 0s 6ms/step - loss: 1.7023e-04\n",
            "Epoch 94/220\n",
            "1/1 [==============================] - 0s 5ms/step - loss: 1.6674e-04\n",
            "Epoch 95/220\n",
            "1/1 [==============================] - 0s 5ms/step - loss: 1.6331e-04\n",
            "Epoch 96/220\n",
            "1/1 [==============================] - 0s 4ms/step - loss: 1.5996e-04\n",
            "Epoch 97/220\n",
            "1/1 [==============================] - 0s 4ms/step - loss: 1.5667e-04\n",
            "Epoch 98/220\n",
            "1/1 [==============================] - 0s 4ms/step - loss: 1.5345e-04\n",
            "Epoch 99/220\n",
            "1/1 [==============================] - 0s 4ms/step - loss: 1.5030e-04\n",
            "Epoch 100/220\n",
            "1/1 [==============================] - 0s 4ms/step - loss: 1.4721e-04\n",
            "Epoch 101/220\n",
            "1/1 [==============================] - 0s 4ms/step - loss: 1.4419e-04\n",
            "Epoch 102/220\n",
            "1/1 [==============================] - 0s 4ms/step - loss: 1.4123e-04\n",
            "Epoch 103/220\n",
            "1/1 [==============================] - 0s 4ms/step - loss: 1.3833e-04\n",
            "Epoch 104/220\n",
            "1/1 [==============================] - 0s 4ms/step - loss: 1.3548e-04\n",
            "Epoch 105/220\n",
            "1/1 [==============================] - 0s 4ms/step - loss: 1.3270e-04\n",
            "Epoch 106/220\n",
            "1/1 [==============================] - 0s 4ms/step - loss: 1.2998e-04\n",
            "Epoch 107/220\n",
            "1/1 [==============================] - 0s 4ms/step - loss: 1.2731e-04\n",
            "Epoch 108/220\n",
            "1/1 [==============================] - 0s 4ms/step - loss: 1.2469e-04\n",
            "Epoch 109/220\n",
            "1/1 [==============================] - 0s 4ms/step - loss: 1.2213e-04\n",
            "Epoch 110/220\n",
            "1/1 [==============================] - 0s 4ms/step - loss: 1.1962e-04\n",
            "Epoch 111/220\n",
            "1/1 [==============================] - 0s 4ms/step - loss: 1.1716e-04\n",
            "Epoch 112/220\n",
            "1/1 [==============================] - 0s 3ms/step - loss: 1.1476e-04\n",
            "Epoch 113/220\n",
            "1/1 [==============================] - 0s 4ms/step - loss: 1.1240e-04\n",
            "Epoch 114/220\n",
            "1/1 [==============================] - 0s 4ms/step - loss: 1.1009e-04\n",
            "Epoch 115/220\n",
            "1/1 [==============================] - 0s 4ms/step - loss: 1.0783e-04\n",
            "Epoch 116/220\n",
            "1/1 [==============================] - 0s 4ms/step - loss: 1.0562e-04\n",
            "Epoch 117/220\n",
            "1/1 [==============================] - 0s 4ms/step - loss: 1.0345e-04\n",
            "Epoch 118/220\n",
            "1/1 [==============================] - 0s 4ms/step - loss: 1.0132e-04\n",
            "Epoch 119/220\n",
            "1/1 [==============================] - 0s 4ms/step - loss: 9.9240e-05\n",
            "Epoch 120/220\n",
            "1/1 [==============================] - 0s 4ms/step - loss: 9.7201e-05\n",
            "Epoch 121/220\n",
            "1/1 [==============================] - 0s 4ms/step - loss: 9.5204e-05\n",
            "Epoch 122/220\n",
            "1/1 [==============================] - 0s 4ms/step - loss: 9.3249e-05\n",
            "Epoch 123/220\n",
            "1/1 [==============================] - 0s 4ms/step - loss: 9.1334e-05\n",
            "Epoch 124/220\n",
            "1/1 [==============================] - 0s 4ms/step - loss: 8.9457e-05\n",
            "Epoch 125/220\n",
            "1/1 [==============================] - 0s 4ms/step - loss: 8.7620e-05\n",
            "Epoch 126/220\n",
            "1/1 [==============================] - 0s 4ms/step - loss: 8.5820e-05\n",
            "Epoch 127/220\n",
            "1/1 [==============================] - 0s 4ms/step - loss: 8.4057e-05\n",
            "Epoch 128/220\n",
            "1/1 [==============================] - 0s 4ms/step - loss: 8.2332e-05\n",
            "Epoch 129/220\n",
            "1/1 [==============================] - 0s 4ms/step - loss: 8.0639e-05\n",
            "Epoch 130/220\n",
            "1/1 [==============================] - 0s 4ms/step - loss: 7.8983e-05\n",
            "Epoch 131/220\n",
            "1/1 [==============================] - 0s 4ms/step - loss: 7.7361e-05\n",
            "Epoch 132/220\n",
            "1/1 [==============================] - 0s 4ms/step - loss: 7.5773e-05\n",
            "Epoch 133/220\n",
            "1/1 [==============================] - 0s 3ms/step - loss: 7.4215e-05\n",
            "Epoch 134/220\n",
            "1/1 [==============================] - 0s 3ms/step - loss: 7.2691e-05\n",
            "Epoch 135/220\n",
            "1/1 [==============================] - 0s 3ms/step - loss: 7.1198e-05\n",
            "Epoch 136/220\n",
            "1/1 [==============================] - 0s 4ms/step - loss: 6.9735e-05\n",
            "Epoch 137/220\n",
            "1/1 [==============================] - 0s 4ms/step - loss: 6.8304e-05\n",
            "Epoch 138/220\n",
            "1/1 [==============================] - 0s 4ms/step - loss: 6.6900e-05\n",
            "Epoch 139/220\n",
            "1/1 [==============================] - 0s 4ms/step - loss: 6.5526e-05\n",
            "Epoch 140/220\n",
            "1/1 [==============================] - 0s 4ms/step - loss: 6.4180e-05\n",
            "Epoch 141/220\n",
            "1/1 [==============================] - 0s 5ms/step - loss: 6.2861e-05\n",
            "Epoch 142/220\n",
            "1/1 [==============================] - 0s 4ms/step - loss: 6.1571e-05\n",
            "Epoch 143/220\n",
            "1/1 [==============================] - 0s 4ms/step - loss: 6.0306e-05\n",
            "Epoch 144/220\n",
            "1/1 [==============================] - 0s 5ms/step - loss: 5.9068e-05\n",
            "Epoch 145/220\n",
            "1/1 [==============================] - 0s 4ms/step - loss: 5.7855e-05\n",
            "Epoch 146/220\n",
            "1/1 [==============================] - 0s 4ms/step - loss: 5.6666e-05\n",
            "Epoch 147/220\n",
            "1/1 [==============================] - 0s 4ms/step - loss: 5.5502e-05\n",
            "Epoch 148/220\n",
            "1/1 [==============================] - 0s 5ms/step - loss: 5.4361e-05\n",
            "Epoch 149/220\n",
            "1/1 [==============================] - 0s 4ms/step - loss: 5.3245e-05\n",
            "Epoch 150/220\n",
            "1/1 [==============================] - 0s 4ms/step - loss: 5.2151e-05\n",
            "Epoch 151/220\n",
            "1/1 [==============================] - 0s 4ms/step - loss: 5.1081e-05\n",
            "Epoch 152/220\n",
            "1/1 [==============================] - 0s 4ms/step - loss: 5.0032e-05\n",
            "Epoch 153/220\n",
            "1/1 [==============================] - 0s 3ms/step - loss: 4.9003e-05\n",
            "Epoch 154/220\n",
            "1/1 [==============================] - 0s 4ms/step - loss: 4.7997e-05\n",
            "Epoch 155/220\n",
            "1/1 [==============================] - 0s 4ms/step - loss: 4.7010e-05\n",
            "Epoch 156/220\n",
            "1/1 [==============================] - 0s 4ms/step - loss: 4.6045e-05\n",
            "Epoch 157/220\n",
            "1/1 [==============================] - 0s 4ms/step - loss: 4.5099e-05\n",
            "Epoch 158/220\n",
            "1/1 [==============================] - 0s 4ms/step - loss: 4.4173e-05\n",
            "Epoch 159/220\n",
            "1/1 [==============================] - 0s 4ms/step - loss: 4.3266e-05\n",
            "Epoch 160/220\n",
            "1/1 [==============================] - 0s 6ms/step - loss: 4.2377e-05\n",
            "Epoch 161/220\n",
            "1/1 [==============================] - 0s 4ms/step - loss: 4.1506e-05\n",
            "Epoch 162/220\n",
            "1/1 [==============================] - 0s 4ms/step - loss: 4.0655e-05\n",
            "Epoch 163/220\n",
            "1/1 [==============================] - 0s 4ms/step - loss: 3.9819e-05\n",
            "Epoch 164/220\n",
            "1/1 [==============================] - 0s 4ms/step - loss: 3.9001e-05\n",
            "Epoch 165/220\n",
            "1/1 [==============================] - 0s 4ms/step - loss: 3.8199e-05\n",
            "Epoch 166/220\n",
            "1/1 [==============================] - 0s 4ms/step - loss: 3.7415e-05\n",
            "Epoch 167/220\n",
            "1/1 [==============================] - 0s 4ms/step - loss: 3.6647e-05\n",
            "Epoch 168/220\n",
            "1/1 [==============================] - 0s 4ms/step - loss: 3.5894e-05\n",
            "Epoch 169/220\n",
            "1/1 [==============================] - 0s 4ms/step - loss: 3.5157e-05\n",
            "Epoch 170/220\n",
            "1/1 [==============================] - 0s 4ms/step - loss: 3.4434e-05\n",
            "Epoch 171/220\n",
            "1/1 [==============================] - 0s 4ms/step - loss: 3.3727e-05\n",
            "Epoch 172/220\n",
            "1/1 [==============================] - 0s 4ms/step - loss: 3.3035e-05\n",
            "Epoch 173/220\n",
            "1/1 [==============================] - 0s 4ms/step - loss: 3.2356e-05\n",
            "Epoch 174/220\n",
            "1/1 [==============================] - 0s 4ms/step - loss: 3.1691e-05\n",
            "Epoch 175/220\n",
            "1/1 [==============================] - 0s 4ms/step - loss: 3.1041e-05\n",
            "Epoch 176/220\n",
            "1/1 [==============================] - 0s 4ms/step - loss: 3.0403e-05\n",
            "Epoch 177/220\n",
            "1/1 [==============================] - 0s 4ms/step - loss: 2.9779e-05\n",
            "Epoch 178/220\n",
            "1/1 [==============================] - 0s 4ms/step - loss: 2.9167e-05\n",
            "Epoch 179/220\n",
            "1/1 [==============================] - 0s 20ms/step - loss: 2.8568e-05\n",
            "Epoch 180/220\n",
            "1/1 [==============================] - 0s 46ms/step - loss: 2.7981e-05\n",
            "Epoch 181/220\n",
            "1/1 [==============================] - 0s 10ms/step - loss: 2.7406e-05\n",
            "Epoch 182/220\n",
            "1/1 [==============================] - 0s 39ms/step - loss: 2.6843e-05\n",
            "Epoch 183/220\n",
            "1/1 [==============================] - 0s 10ms/step - loss: 2.6292e-05\n",
            "Epoch 184/220\n",
            "1/1 [==============================] - 0s 5ms/step - loss: 2.5751e-05\n",
            "Epoch 185/220\n",
            "1/1 [==============================] - 0s 5ms/step - loss: 2.5222e-05\n",
            "Epoch 186/220\n",
            "1/1 [==============================] - 0s 7ms/step - loss: 2.4704e-05\n",
            "Epoch 187/220\n",
            "1/1 [==============================] - 0s 6ms/step - loss: 2.4197e-05\n",
            "Epoch 188/220\n",
            "1/1 [==============================] - 0s 6ms/step - loss: 2.3700e-05\n",
            "Epoch 189/220\n",
            "1/1 [==============================] - 0s 4ms/step - loss: 2.3213e-05\n",
            "Epoch 190/220\n",
            "1/1 [==============================] - 0s 4ms/step - loss: 2.2736e-05\n",
            "Epoch 191/220\n",
            "1/1 [==============================] - 0s 4ms/step - loss: 2.2269e-05\n",
            "Epoch 192/220\n",
            "1/1 [==============================] - 0s 5ms/step - loss: 2.1812e-05\n",
            "Epoch 193/220\n",
            "1/1 [==============================] - 0s 4ms/step - loss: 2.1363e-05\n",
            "Epoch 194/220\n",
            "1/1 [==============================] - 0s 4ms/step - loss: 2.0924e-05\n",
            "Epoch 195/220\n",
            "1/1 [==============================] - 0s 4ms/step - loss: 2.0494e-05\n",
            "Epoch 196/220\n",
            "1/1 [==============================] - 0s 4ms/step - loss: 2.0073e-05\n",
            "Epoch 197/220\n",
            "1/1 [==============================] - 0s 4ms/step - loss: 1.9661e-05\n",
            "Epoch 198/220\n",
            "1/1 [==============================] - 0s 4ms/step - loss: 1.9257e-05\n",
            "Epoch 199/220\n",
            "1/1 [==============================] - 0s 4ms/step - loss: 1.8862e-05\n",
            "Epoch 200/220\n",
            "1/1 [==============================] - 0s 3ms/step - loss: 1.8474e-05\n",
            "Epoch 201/220\n",
            "1/1 [==============================] - 0s 4ms/step - loss: 1.8095e-05\n",
            "Epoch 202/220\n",
            "1/1 [==============================] - 0s 6ms/step - loss: 1.7723e-05\n",
            "Epoch 203/220\n",
            "1/1 [==============================] - 0s 5ms/step - loss: 1.7359e-05\n",
            "Epoch 204/220\n",
            "1/1 [==============================] - 0s 4ms/step - loss: 1.7003e-05\n",
            "Epoch 205/220\n",
            "1/1 [==============================] - 0s 4ms/step - loss: 1.6653e-05\n",
            "Epoch 206/220\n",
            "1/1 [==============================] - 0s 4ms/step - loss: 1.6311e-05\n",
            "Epoch 207/220\n",
            "1/1 [==============================] - 0s 6ms/step - loss: 1.5976e-05\n",
            "Epoch 208/220\n",
            "1/1 [==============================] - 0s 6ms/step - loss: 1.5648e-05\n",
            "Epoch 209/220\n",
            "1/1 [==============================] - 0s 4ms/step - loss: 1.5327e-05\n",
            "Epoch 210/220\n",
            "1/1 [==============================] - 0s 6ms/step - loss: 1.5012e-05\n",
            "Epoch 211/220\n",
            "1/1 [==============================] - 0s 4ms/step - loss: 1.4704e-05\n",
            "Epoch 212/220\n",
            "1/1 [==============================] - 0s 6ms/step - loss: 1.4402e-05\n",
            "Epoch 213/220\n",
            "1/1 [==============================] - 0s 4ms/step - loss: 1.4106e-05\n",
            "Epoch 214/220\n",
            "1/1 [==============================] - 0s 5ms/step - loss: 1.3815e-05\n",
            "Epoch 215/220\n",
            "1/1 [==============================] - 0s 6ms/step - loss: 1.3531e-05\n",
            "Epoch 216/220\n",
            "1/1 [==============================] - 0s 4ms/step - loss: 1.3253e-05\n",
            "Epoch 217/220\n",
            "1/1 [==============================] - 0s 4ms/step - loss: 1.2982e-05\n",
            "Epoch 218/220\n",
            "1/1 [==============================] - 0s 5ms/step - loss: 1.2715e-05\n",
            "Epoch 219/220\n",
            "1/1 [==============================] - 0s 3ms/step - loss: 1.2453e-05\n",
            "Epoch 220/220\n",
            "1/1 [==============================] - 0s 3ms/step - loss: 1.2198e-05\n"
          ]
        }
      ],
      "source": [
        "history = model.fit(input_x,output_y,epochs=220)"
      ]
    },
    {
      "cell_type": "code",
      "execution_count": null,
      "metadata": {
        "colab": {
          "base_uri": "https://localhost:8080/"
        },
        "id": "o79pjNSsKRcz",
        "outputId": "6d28fad9-8f67-4bb7-8fdd-152f0ee0dac6"
      },
      "outputs": [
        {
          "output_type": "stream",
          "name": "stdout",
          "text": [
            "<keras.callbacks.History object at 0x7f7d1e1e4610>\n"
          ]
        }
      ],
      "source": [
        "print(history)\n"
      ]
    },
    {
      "cell_type": "code",
      "execution_count": null,
      "metadata": {
        "colab": {
          "base_uri": "https://localhost:8080/",
          "height": 282
        },
        "id": "FWS0v7wWKha3",
        "outputId": "971eb068-03d7-44d2-85f3-b5c8b149c40c"
      },
      "outputs": [
        {
          "output_type": "display_data",
          "data": {
            "text/plain": [
              "<Figure size 432x288 with 1 Axes>"
            ],
            "image/png": "[encoded data removed]"
          },
          "metadata": {
            "needs_background": "light"
          }
        }
      ],
      "source": [
        "import matplotlib.pyplot as plt\n",
        "\n",
        "plt.xlabel(\"Epochs\")\n",
        "plt.ylabel(\"Loss\")\n",
        "plt.plot(history.history[\"loss\"])\n",
        "plt.show()"
      ]
    },
    {
      "cell_type": "code",
      "execution_count": null,
      "metadata": {
        "colab": {
          "base_uri": "https://localhost:8080/"
        },
        "id": "Zxet92vrK_f1",
        "outputId": "6fc898a2-8bc0-473b-b803-356c37df0f94"
      },
      "outputs": [
        {
          "output_type": "stream",
          "name": "stdout",
          "text": [
            "[[18.98981]]\n"
          ]
        }
      ],
      "source": [
        "print(model.predict([10]))"
      ]
    },
    {
      "cell_type": "code",
      "execution_count": null,
      "metadata": {
        "colab": {
          "base_uri": "https://localhost:8080/"
        },
        "id": "czu8ZrtiLcpf",
        "outputId": "ddc52d6f-2103-4aaf-fa04-3f47131c5c77"
      },
      "outputs": [
        {
          "output_type": "stream",
          "name": "stdout",
          "text": [
            "[array([[1.9985231]], dtype=float32), array([-0.9954213], dtype=float32)]\n"
          ]
        }
      ],
      "source": [
        "print(model.get_weights())"
      ]
    },
    {
      "cell_type": "code",
      "execution_count": null,
      "metadata": {
        "id": "66CUmMOqF4a0"
      },
      "outputs": [],
      "source": []
    }
  ],
  "metadata": {
    "colab": {
      "provenance": []
    },
    "kernelspec": {
      "display_name": "Python 3.8.8 ('base')",
      "language": "python",
      "name": "python3"
    },
    "language_info": {
      "codemirror_mode": {
        "name": "ipython",
        "version": 3
      },
      "file_extension": ".py",
      "mimetype": "text/x-python",
      "name": "python",
      "nbconvert_exporter": "python",
      "pygments_lexer": "ipython3",
      "version": "3.8.8"
    },
    "vscode": {
      "interpreter": {
        "hash": "95a1c2e80f057afcd5a481c3cc5cf533e1011abe1809e08fa3f649259a6254cc"
      }
    }
  },
  "nbformat": 4,
  "nbformat_minor": 0
}